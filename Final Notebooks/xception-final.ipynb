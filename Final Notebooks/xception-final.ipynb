{
 "cells": [
  {
   "cell_type": "code",
   "execution_count": 1,
   "metadata": {
    "_cell_guid": "b1076dfc-b9ad-4769-8c92-a6c4dae69d19",
    "_uuid": "8f2839f25d086af736a60e9eeb907d3b93b6e0e5",
    "execution": {
     "iopub.execute_input": "2021-08-17T17:47:56.512990Z",
     "iopub.status.busy": "2021-08-17T17:47:56.512482Z",
     "iopub.status.idle": "2021-08-17T17:47:56.524681Z",
     "shell.execute_reply": "2021-08-17T17:47:56.523627Z",
     "shell.execute_reply.started": "2021-08-17T17:47:56.512869Z"
    }
   },
   "outputs": [],
   "source": [
    "# This Python 3 environment comes with many helpful analytics libraries installed\n",
    "# It is defined by the kaggle/python Docker image: https://github.com/kaggle/docker-python\n",
    "# For example, here's several helpful packages to load\n",
    "\n",
    "import numpy as np # linear algebra\n",
    "import pandas as pd # data processing, CSV file I/O (e.g. pd.read_csv)\n",
    "\n",
    "# Input data files are available in the read-only \"../input/\" directory\n",
    "# For example, running this (by clicking run or pressing Shift+Enter) will list all files under the input directory\n",
    "\n",
    "import os\n",
    "# for dirname, _, filenames in os.walk('/kaggle/input'):\n",
    "#     for filename in filenames:\n",
    "#         print(os.path.join(dirname, filename))\n",
    "\n",
    "# You can write up to 20GB to the current directory (/kaggle/working/) that gets preserved as output when you create a version using \"Save & Run All\" \n",
    "# You can also write temporary files to /kaggle/temp/, but they won't be saved outside of the current session"
   ]
  },
  {
   "cell_type": "code",
   "execution_count": 2,
   "metadata": {
    "execution": {
     "iopub.execute_input": "2021-08-17T17:47:56.526487Z",
     "iopub.status.busy": "2021-08-17T17:47:56.526175Z",
     "iopub.status.idle": "2021-08-17T17:48:03.559532Z",
     "shell.execute_reply": "2021-08-17T17:48:03.558354Z",
     "shell.execute_reply.started": "2021-08-17T17:47:56.526457Z"
    }
   },
   "outputs": [],
   "source": [
    "import tensorflow as tf\n",
    "import matplotlib.pyplot as plt\n",
    "import seaborn as sns\n",
    "from kaggle_datasets import KaggleDatasets\n",
    "from tensorflow.keras.applications import Xception\n",
    "import re\n",
    "import sklearn\n",
    "from sklearn.model_selection import train_test_split\n",
    "from tensorflow.keras import backend as K\n",
    "from sklearn.metrics import classification_report\n",
    "from sklearn.utils.class_weight import compute_class_weight"
   ]
  },
  {
   "cell_type": "code",
   "execution_count": 3,
   "metadata": {
    "execution": {
     "iopub.execute_input": "2021-08-17T17:48:03.561791Z",
     "iopub.status.busy": "2021-08-17T17:48:03.561463Z",
     "iopub.status.idle": "2021-08-17T17:48:09.444032Z",
     "shell.execute_reply": "2021-08-17T17:48:09.442978Z",
     "shell.execute_reply.started": "2021-08-17T17:48:03.561756Z"
    }
   },
   "outputs": [
    {
     "name": "stdout",
     "output_type": "stream",
     "text": [
      "Running on TPU  grpc://10.0.0.2:8470\n",
      "REPLICAS:  8\n"
     ]
    }
   ],
   "source": [
    "try:\n",
    "    tpu_resolver = tf.distribute.cluster_resolver.TPUClusterResolver()\n",
    "    print('Running on TPU ', tpu_resolver.master())\n",
    "except ValueError:\n",
    "    tpu_resolver = None\n",
    "\n",
    "if tpu_resolver:\n",
    "    tf.config.experimental_connect_to_cluster(tpu_resolver)\n",
    "    tf.tpu.experimental.initialize_tpu_system(tpu_resolver)\n",
    "    tpu_strategy = tf.distribute.experimental.TPUStrategy(tpu_resolver)\n",
    "else:\n",
    "    tpu_strategy = tf.distribute.get_strategy()\n",
    "\n",
    "print(\"REPLICAS: \", tpu_strategy.num_replicas_in_sync)"
   ]
  },
  {
   "cell_type": "code",
   "execution_count": 4,
   "metadata": {
    "execution": {
     "iopub.execute_input": "2021-08-17T17:48:09.446156Z",
     "iopub.status.busy": "2021-08-17T17:48:09.445781Z",
     "iopub.status.idle": "2021-08-17T17:48:09.540598Z",
     "shell.execute_reply": "2021-08-17T17:48:09.539424Z",
     "shell.execute_reply.started": "2021-08-17T17:48:09.446121Z"
    }
   },
   "outputs": [],
   "source": [
    "df_melanoma = pd.read_csv(\"../input/siim-isic-melanoma-classification/train.csv\")"
   ]
  },
  {
   "cell_type": "code",
   "execution_count": 5,
   "metadata": {
    "execution": {
     "iopub.execute_input": "2021-08-17T17:48:09.542307Z",
     "iopub.status.busy": "2021-08-17T17:48:09.541998Z",
     "iopub.status.idle": "2021-08-17T17:48:09.573876Z",
     "shell.execute_reply": "2021-08-17T17:48:09.572824Z",
     "shell.execute_reply.started": "2021-08-17T17:48:09.542271Z"
    }
   },
   "outputs": [
    {
     "data": {
      "text/html": [
       "<div>\n",
       "<style scoped>\n",
       "    .dataframe tbody tr th:only-of-type {\n",
       "        vertical-align: middle;\n",
       "    }\n",
       "\n",
       "    .dataframe tbody tr th {\n",
       "        vertical-align: top;\n",
       "    }\n",
       "\n",
       "    .dataframe thead th {\n",
       "        text-align: right;\n",
       "    }\n",
       "</style>\n",
       "<table border=\"1\" class=\"dataframe\">\n",
       "  <thead>\n",
       "    <tr style=\"text-align: right;\">\n",
       "      <th></th>\n",
       "      <th>image_name</th>\n",
       "      <th>patient_id</th>\n",
       "      <th>sex</th>\n",
       "      <th>age_approx</th>\n",
       "      <th>anatom_site_general_challenge</th>\n",
       "      <th>diagnosis</th>\n",
       "      <th>benign_malignant</th>\n",
       "      <th>target</th>\n",
       "    </tr>\n",
       "  </thead>\n",
       "  <tbody>\n",
       "    <tr>\n",
       "      <th>0</th>\n",
       "      <td>ISIC_2637011</td>\n",
       "      <td>IP_7279968</td>\n",
       "      <td>male</td>\n",
       "      <td>45.0</td>\n",
       "      <td>head/neck</td>\n",
       "      <td>unknown</td>\n",
       "      <td>benign</td>\n",
       "      <td>0</td>\n",
       "    </tr>\n",
       "    <tr>\n",
       "      <th>1</th>\n",
       "      <td>ISIC_0015719</td>\n",
       "      <td>IP_3075186</td>\n",
       "      <td>female</td>\n",
       "      <td>45.0</td>\n",
       "      <td>upper extremity</td>\n",
       "      <td>unknown</td>\n",
       "      <td>benign</td>\n",
       "      <td>0</td>\n",
       "    </tr>\n",
       "    <tr>\n",
       "      <th>2</th>\n",
       "      <td>ISIC_0052212</td>\n",
       "      <td>IP_2842074</td>\n",
       "      <td>female</td>\n",
       "      <td>50.0</td>\n",
       "      <td>lower extremity</td>\n",
       "      <td>nevus</td>\n",
       "      <td>benign</td>\n",
       "      <td>0</td>\n",
       "    </tr>\n",
       "    <tr>\n",
       "      <th>3</th>\n",
       "      <td>ISIC_0068279</td>\n",
       "      <td>IP_6890425</td>\n",
       "      <td>female</td>\n",
       "      <td>45.0</td>\n",
       "      <td>head/neck</td>\n",
       "      <td>unknown</td>\n",
       "      <td>benign</td>\n",
       "      <td>0</td>\n",
       "    </tr>\n",
       "    <tr>\n",
       "      <th>4</th>\n",
       "      <td>ISIC_0074268</td>\n",
       "      <td>IP_8723313</td>\n",
       "      <td>female</td>\n",
       "      <td>55.0</td>\n",
       "      <td>upper extremity</td>\n",
       "      <td>unknown</td>\n",
       "      <td>benign</td>\n",
       "      <td>0</td>\n",
       "    </tr>\n",
       "  </tbody>\n",
       "</table>\n",
       "</div>"
      ],
      "text/plain": [
       "     image_name  patient_id     sex  age_approx anatom_site_general_challenge  \\\n",
       "0  ISIC_2637011  IP_7279968    male        45.0                     head/neck   \n",
       "1  ISIC_0015719  IP_3075186  female        45.0               upper extremity   \n",
       "2  ISIC_0052212  IP_2842074  female        50.0               lower extremity   \n",
       "3  ISIC_0068279  IP_6890425  female        45.0                     head/neck   \n",
       "4  ISIC_0074268  IP_8723313  female        55.0               upper extremity   \n",
       "\n",
       "  diagnosis benign_malignant  target  \n",
       "0   unknown           benign       0  \n",
       "1   unknown           benign       0  \n",
       "2     nevus           benign       0  \n",
       "3   unknown           benign       0  \n",
       "4   unknown           benign       0  "
      ]
     },
     "execution_count": 5,
     "metadata": {},
     "output_type": "execute_result"
    }
   ],
   "source": [
    "df_melanoma.head()"
   ]
  },
  {
   "cell_type": "code",
   "execution_count": 6,
   "metadata": {
    "execution": {
     "iopub.execute_input": "2021-08-17T17:48:09.575474Z",
     "iopub.status.busy": "2021-08-17T17:48:09.575183Z",
     "iopub.status.idle": "2021-08-17T17:48:09.592208Z",
     "shell.execute_reply": "2021-08-17T17:48:09.591021Z",
     "shell.execute_reply.started": "2021-08-17T17:48:09.575445Z"
    }
   },
   "outputs": [
    {
     "data": {
      "text/html": [
       "<div>\n",
       "<style scoped>\n",
       "    .dataframe tbody tr th:only-of-type {\n",
       "        vertical-align: middle;\n",
       "    }\n",
       "\n",
       "    .dataframe tbody tr th {\n",
       "        vertical-align: top;\n",
       "    }\n",
       "\n",
       "    .dataframe thead th {\n",
       "        text-align: right;\n",
       "    }\n",
       "</style>\n",
       "<table border=\"1\" class=\"dataframe\">\n",
       "  <thead>\n",
       "    <tr style=\"text-align: right;\">\n",
       "      <th></th>\n",
       "      <th>image_name</th>\n",
       "      <th>patient_id</th>\n",
       "      <th>sex</th>\n",
       "      <th>age_approx</th>\n",
       "      <th>anatom_site_general_challenge</th>\n",
       "      <th>diagnosis</th>\n",
       "      <th>benign_malignant</th>\n",
       "      <th>target</th>\n",
       "    </tr>\n",
       "  </thead>\n",
       "  <tbody>\n",
       "    <tr>\n",
       "      <th>33121</th>\n",
       "      <td>ISIC_9999134</td>\n",
       "      <td>IP_6526534</td>\n",
       "      <td>male</td>\n",
       "      <td>50.0</td>\n",
       "      <td>torso</td>\n",
       "      <td>unknown</td>\n",
       "      <td>benign</td>\n",
       "      <td>0</td>\n",
       "    </tr>\n",
       "    <tr>\n",
       "      <th>33122</th>\n",
       "      <td>ISIC_9999320</td>\n",
       "      <td>IP_3650745</td>\n",
       "      <td>male</td>\n",
       "      <td>65.0</td>\n",
       "      <td>torso</td>\n",
       "      <td>unknown</td>\n",
       "      <td>benign</td>\n",
       "      <td>0</td>\n",
       "    </tr>\n",
       "    <tr>\n",
       "      <th>33123</th>\n",
       "      <td>ISIC_9999515</td>\n",
       "      <td>IP_2026598</td>\n",
       "      <td>male</td>\n",
       "      <td>20.0</td>\n",
       "      <td>lower extremity</td>\n",
       "      <td>unknown</td>\n",
       "      <td>benign</td>\n",
       "      <td>0</td>\n",
       "    </tr>\n",
       "    <tr>\n",
       "      <th>33124</th>\n",
       "      <td>ISIC_9999666</td>\n",
       "      <td>IP_7702038</td>\n",
       "      <td>male</td>\n",
       "      <td>50.0</td>\n",
       "      <td>lower extremity</td>\n",
       "      <td>unknown</td>\n",
       "      <td>benign</td>\n",
       "      <td>0</td>\n",
       "    </tr>\n",
       "    <tr>\n",
       "      <th>33125</th>\n",
       "      <td>ISIC_9999806</td>\n",
       "      <td>IP_0046310</td>\n",
       "      <td>male</td>\n",
       "      <td>45.0</td>\n",
       "      <td>torso</td>\n",
       "      <td>nevus</td>\n",
       "      <td>benign</td>\n",
       "      <td>0</td>\n",
       "    </tr>\n",
       "  </tbody>\n",
       "</table>\n",
       "</div>"
      ],
      "text/plain": [
       "         image_name  patient_id   sex  age_approx  \\\n",
       "33121  ISIC_9999134  IP_6526534  male        50.0   \n",
       "33122  ISIC_9999320  IP_3650745  male        65.0   \n",
       "33123  ISIC_9999515  IP_2026598  male        20.0   \n",
       "33124  ISIC_9999666  IP_7702038  male        50.0   \n",
       "33125  ISIC_9999806  IP_0046310  male        45.0   \n",
       "\n",
       "      anatom_site_general_challenge diagnosis benign_malignant  target  \n",
       "33121                         torso   unknown           benign       0  \n",
       "33122                         torso   unknown           benign       0  \n",
       "33123               lower extremity   unknown           benign       0  \n",
       "33124               lower extremity   unknown           benign       0  \n",
       "33125                         torso     nevus           benign       0  "
      ]
     },
     "execution_count": 6,
     "metadata": {},
     "output_type": "execute_result"
    }
   ],
   "source": [
    "df_melanoma.tail()"
   ]
  },
  {
   "cell_type": "code",
   "execution_count": 7,
   "metadata": {
    "execution": {
     "iopub.execute_input": "2021-08-17T17:48:09.595384Z",
     "iopub.status.busy": "2021-08-17T17:48:09.594975Z",
     "iopub.status.idle": "2021-08-17T17:48:09.626497Z",
     "shell.execute_reply": "2021-08-17T17:48:09.625624Z",
     "shell.execute_reply.started": "2021-08-17T17:48:09.595350Z"
    }
   },
   "outputs": [
    {
     "data": {
      "text/html": [
       "<div>\n",
       "<style scoped>\n",
       "    .dataframe tbody tr th:only-of-type {\n",
       "        vertical-align: middle;\n",
       "    }\n",
       "\n",
       "    .dataframe tbody tr th {\n",
       "        vertical-align: top;\n",
       "    }\n",
       "\n",
       "    .dataframe thead th {\n",
       "        text-align: right;\n",
       "    }\n",
       "</style>\n",
       "<table border=\"1\" class=\"dataframe\">\n",
       "  <thead>\n",
       "    <tr style=\"text-align: right;\">\n",
       "      <th></th>\n",
       "      <th>age_approx</th>\n",
       "      <th>target</th>\n",
       "    </tr>\n",
       "  </thead>\n",
       "  <tbody>\n",
       "    <tr>\n",
       "      <th>count</th>\n",
       "      <td>33058.000000</td>\n",
       "      <td>33126.000000</td>\n",
       "    </tr>\n",
       "    <tr>\n",
       "      <th>mean</th>\n",
       "      <td>48.870016</td>\n",
       "      <td>0.017630</td>\n",
       "    </tr>\n",
       "    <tr>\n",
       "      <th>std</th>\n",
       "      <td>14.380360</td>\n",
       "      <td>0.131603</td>\n",
       "    </tr>\n",
       "    <tr>\n",
       "      <th>min</th>\n",
       "      <td>0.000000</td>\n",
       "      <td>0.000000</td>\n",
       "    </tr>\n",
       "    <tr>\n",
       "      <th>25%</th>\n",
       "      <td>40.000000</td>\n",
       "      <td>0.000000</td>\n",
       "    </tr>\n",
       "    <tr>\n",
       "      <th>50%</th>\n",
       "      <td>50.000000</td>\n",
       "      <td>0.000000</td>\n",
       "    </tr>\n",
       "    <tr>\n",
       "      <th>75%</th>\n",
       "      <td>60.000000</td>\n",
       "      <td>0.000000</td>\n",
       "    </tr>\n",
       "    <tr>\n",
       "      <th>max</th>\n",
       "      <td>90.000000</td>\n",
       "      <td>1.000000</td>\n",
       "    </tr>\n",
       "  </tbody>\n",
       "</table>\n",
       "</div>"
      ],
      "text/plain": [
       "         age_approx        target\n",
       "count  33058.000000  33126.000000\n",
       "mean      48.870016      0.017630\n",
       "std       14.380360      0.131603\n",
       "min        0.000000      0.000000\n",
       "25%       40.000000      0.000000\n",
       "50%       50.000000      0.000000\n",
       "75%       60.000000      0.000000\n",
       "max       90.000000      1.000000"
      ]
     },
     "execution_count": 7,
     "metadata": {},
     "output_type": "execute_result"
    }
   ],
   "source": [
    "df_melanoma.describe()"
   ]
  },
  {
   "cell_type": "code",
   "execution_count": 8,
   "metadata": {
    "execution": {
     "iopub.execute_input": "2021-08-17T17:48:09.630517Z",
     "iopub.status.busy": "2021-08-17T17:48:09.630207Z",
     "iopub.status.idle": "2021-08-17T17:48:09.669193Z",
     "shell.execute_reply": "2021-08-17T17:48:09.668063Z",
     "shell.execute_reply.started": "2021-08-17T17:48:09.630487Z"
    }
   },
   "outputs": [
    {
     "name": "stdout",
     "output_type": "stream",
     "text": [
      "<class 'pandas.core.frame.DataFrame'>\n",
      "RangeIndex: 33126 entries, 0 to 33125\n",
      "Data columns (total 8 columns):\n",
      " #   Column                         Non-Null Count  Dtype  \n",
      "---  ------                         --------------  -----  \n",
      " 0   image_name                     33126 non-null  object \n",
      " 1   patient_id                     33126 non-null  object \n",
      " 2   sex                            33061 non-null  object \n",
      " 3   age_approx                     33058 non-null  float64\n",
      " 4   anatom_site_general_challenge  32599 non-null  object \n",
      " 5   diagnosis                      33126 non-null  object \n",
      " 6   benign_malignant               33126 non-null  object \n",
      " 7   target                         33126 non-null  int64  \n",
      "dtypes: float64(1), int64(1), object(6)\n",
      "memory usage: 2.0+ MB\n"
     ]
    }
   ],
   "source": [
    "df_melanoma.info()"
   ]
  },
  {
   "cell_type": "code",
   "execution_count": 9,
   "metadata": {
    "execution": {
     "iopub.execute_input": "2021-08-17T17:48:09.670768Z",
     "iopub.status.busy": "2021-08-17T17:48:09.670469Z",
     "iopub.status.idle": "2021-08-17T17:48:10.015945Z",
     "shell.execute_reply": "2021-08-17T17:48:10.014819Z",
     "shell.execute_reply.started": "2021-08-17T17:48:09.670740Z"
    }
   },
   "outputs": [
    {
     "name": "stdout",
     "output_type": "stream",
     "text": [
      "0    32542\n",
      "1      584\n",
      "Name: target, dtype: int64\n"
     ]
    },
    {
     "name": "stderr",
     "output_type": "stream",
     "text": [
      "/opt/conda/lib/python3.7/site-packages/seaborn/_decorators.py:43: FutureWarning: Pass the following variable as a keyword arg: x. From version 0.12, the only valid positional argument will be `data`, and passing other arguments without an explicit keyword will result in an error or misinterpretation.\n",
      "  FutureWarning\n"
     ]
    },
    {
     "data": {
      "text/plain": [
       "<AxesSubplot:xlabel='target', ylabel='count'>"
      ]
     },
     "execution_count": 9,
     "metadata": {},
     "output_type": "execute_result"
    },
    {
     "data": {
      "image/png": "[encoded data removed]",
      "text/plain": [
       "<Figure size 432x288 with 1 Axes>"
      ]
     },
     "metadata": {
      "needs_background": "light"
     },
     "output_type": "display_data"
    }
   ],
   "source": [
    "print(df_melanoma['target'].value_counts())\n",
    "sns.countplot(df_melanoma['target'])"
   ]
  },
  {
   "cell_type": "code",
   "execution_count": 10,
   "metadata": {
    "execution": {
     "iopub.execute_input": "2021-08-17T17:48:10.018193Z",
     "iopub.status.busy": "2021-08-17T17:48:10.017716Z",
     "iopub.status.idle": "2021-08-17T17:48:10.219090Z",
     "shell.execute_reply": "2021-08-17T17:48:10.218059Z",
     "shell.execute_reply.started": "2021-08-17T17:48:10.018147Z"
    }
   },
   "outputs": [
    {
     "name": "stdout",
     "output_type": "stream",
     "text": [
      "male      17080\n",
      "female    15981\n",
      "Name: sex, dtype: int64\n"
     ]
    },
    {
     "name": "stderr",
     "output_type": "stream",
     "text": [
      "/opt/conda/lib/python3.7/site-packages/seaborn/_decorators.py:43: FutureWarning: Pass the following variable as a keyword arg: x. From version 0.12, the only valid positional argument will be `data`, and passing other arguments without an explicit keyword will result in an error or misinterpretation.\n",
      "  FutureWarning\n"
     ]
    },
    {
     "data": {
      "text/plain": [
       "<AxesSubplot:xlabel='sex', ylabel='count'>"
      ]
     },
     "execution_count": 10,
     "metadata": {},
     "output_type": "execute_result"
    },
    {
     "data": {
      "image/png": "[encoded data removed]",
      "text/plain": [
       "<Figure size 432x288 with 1 Axes>"
      ]
     },
     "metadata": {
      "needs_background": "light"
     },
     "output_type": "display_data"
    }
   ],
   "source": [
    "print(df_melanoma['sex'].value_counts())\n",
    "sns.countplot(df_melanoma['sex'])"
   ]
  },
  {
   "cell_type": "code",
   "execution_count": 11,
   "metadata": {
    "execution": {
     "iopub.execute_input": "2021-08-17T17:48:10.220714Z",
     "iopub.status.busy": "2021-08-17T17:48:10.220425Z",
     "iopub.status.idle": "2021-08-17T17:48:10.501417Z",
     "shell.execute_reply": "2021-08-17T17:48:10.500457Z",
     "shell.execute_reply.started": "2021-08-17T17:48:10.220685Z"
    }
   },
   "outputs": [
    {
     "name": "stdout",
     "output_type": "stream",
     "text": [
      "unknown                               27124\n",
      "nevus                                  5193\n",
      "melanoma                                584\n",
      "seborrheic keratosis                    135\n",
      "lentigo NOS                              44\n",
      "lichenoid keratosis                      37\n",
      "solar lentigo                             7\n",
      "atypical melanocytic proliferation        1\n",
      "cafe-au-lait macule                       1\n",
      "Name: diagnosis, dtype: int64\n"
     ]
    },
    {
     "name": "stderr",
     "output_type": "stream",
     "text": [
      "/opt/conda/lib/python3.7/site-packages/seaborn/_decorators.py:43: FutureWarning: Pass the following variable as a keyword arg: x. From version 0.12, the only valid positional argument will be `data`, and passing other arguments without an explicit keyword will result in an error or misinterpretation.\n",
      "  FutureWarning\n"
     ]
    },
    {
     "data": {
      "text/plain": [
       "<AxesSubplot:xlabel='diagnosis', ylabel='count'>"
      ]
     },
     "execution_count": 11,
     "metadata": {},
     "output_type": "execute_result"
    },
    {
     "data": {
      "image/png": "[encoded data removed]",
      "text/plain": [
       "<Figure size 1440x288 with 1 Axes>"
      ]
     },
     "metadata": {
      "needs_background": "light"
     },
     "output_type": "display_data"
    }
   ],
   "source": [
    "fig_dims = (20, 4)\n",
    "fig, ax = plt.subplots(figsize=fig_dims)\n",
    "print(df_melanoma['diagnosis'].value_counts())\n",
    "sns.countplot(df_melanoma['diagnosis'], ax = ax)"
   ]
  },
  {
   "cell_type": "code",
   "execution_count": 12,
   "metadata": {
    "execution": {
     "iopub.execute_input": "2021-08-17T17:48:10.504420Z",
     "iopub.status.busy": "2021-08-17T17:48:10.504023Z",
     "iopub.status.idle": "2021-08-17T17:48:10.767337Z",
     "shell.execute_reply": "2021-08-17T17:48:10.766109Z",
     "shell.execute_reply.started": "2021-08-17T17:48:10.504386Z"
    }
   },
   "outputs": [
    {
     "name": "stdout",
     "output_type": "stream",
     "text": [
      "torso              16845\n",
      "lower extremity     8417\n",
      "upper extremity     4983\n",
      "head/neck           1855\n",
      "palms/soles          375\n",
      "oral/genital         124\n",
      "Name: anatom_site_general_challenge, dtype: int64\n"
     ]
    },
    {
     "name": "stderr",
     "output_type": "stream",
     "text": [
      "/opt/conda/lib/python3.7/site-packages/seaborn/_decorators.py:43: FutureWarning: Pass the following variable as a keyword arg: x. From version 0.12, the only valid positional argument will be `data`, and passing other arguments without an explicit keyword will result in an error or misinterpretation.\n",
      "  FutureWarning\n"
     ]
    },
    {
     "data": {
      "text/plain": [
       "<AxesSubplot:xlabel='anatom_site_general_challenge', ylabel='count'>"
      ]
     },
     "execution_count": 12,
     "metadata": {},
     "output_type": "execute_result"
    },
    {
     "data": {
      "image/png": "[encoded data removed]",
      "text/plain": [
       "<Figure size 720x288 with 1 Axes>"
      ]
     },
     "metadata": {
      "needs_background": "light"
     },
     "output_type": "display_data"
    }
   ],
   "source": [
    "fig_dims = (10, 4)\n",
    "fig, ax = plt.subplots(figsize=fig_dims)\n",
    "print(df_melanoma['anatom_site_general_challenge'].value_counts())\n",
    "sns.countplot(df_melanoma['anatom_site_general_challenge'], ax = ax)"
   ]
  },
  {
   "cell_type": "code",
   "execution_count": 13,
   "metadata": {
    "execution": {
     "iopub.execute_input": "2021-08-17T17:48:10.768892Z",
     "iopub.status.busy": "2021-08-17T17:48:10.768591Z",
     "iopub.status.idle": "2021-08-17T17:48:10.963197Z",
     "shell.execute_reply": "2021-08-17T17:48:10.962062Z",
     "shell.execute_reply.started": "2021-08-17T17:48:10.768862Z"
    }
   },
   "outputs": [
    {
     "name": "stdout",
     "output_type": "stream",
     "text": [
      "benign       32542\n",
      "malignant      584\n",
      "Name: benign_malignant, dtype: int64\n"
     ]
    },
    {
     "name": "stderr",
     "output_type": "stream",
     "text": [
      "/opt/conda/lib/python3.7/site-packages/seaborn/_decorators.py:43: FutureWarning: Pass the following variable as a keyword arg: x. From version 0.12, the only valid positional argument will be `data`, and passing other arguments without an explicit keyword will result in an error or misinterpretation.\n",
      "  FutureWarning\n"
     ]
    },
    {
     "data": {
      "text/plain": [
       "<AxesSubplot:xlabel='benign_malignant', ylabel='count'>"
      ]
     },
     "execution_count": 13,
     "metadata": {},
     "output_type": "execute_result"
    },
    {
     "data": {
      "image/png": "[encoded data removed]",
      "text/plain": [
       "<Figure size 432x288 with 1 Axes>"
      ]
     },
     "metadata": {
      "needs_background": "light"
     },
     "output_type": "display_data"
    }
   ],
   "source": [
    "print(df_melanoma['benign_malignant'].value_counts())\n",
    "sns.countplot(df_melanoma['benign_malignant'])"
   ]
  },
  {
   "cell_type": "code",
   "execution_count": 14,
   "metadata": {
    "execution": {
     "iopub.execute_input": "2021-08-17T17:48:10.964604Z",
     "iopub.status.busy": "2021-08-17T17:48:10.964315Z",
     "iopub.status.idle": "2021-08-17T17:48:11.136802Z",
     "shell.execute_reply": "2021-08-17T17:48:11.135771Z",
     "shell.execute_reply.started": "2021-08-17T17:48:10.964576Z"
    }
   },
   "outputs": [
    {
     "data": {
      "text/plain": [
       "(array([2.000e+00, 1.490e+02, 2.199e+03, 5.208e+03, 3.576e+03, 8.736e+03,\n",
       "        7.064e+03, 4.495e+03, 1.400e+03, 2.290e+02]),\n",
       " array([ 0.,  9., 18., 27., 36., 45., 54., 63., 72., 81., 90.]),\n",
       " <BarContainer object of 10 artists>)"
      ]
     },
     "execution_count": 14,
     "metadata": {},
     "output_type": "execute_result"
    },
    {
     "data": {
      "image/png": "[encoded data removed]",
      "text/plain": [
       "<Figure size 432x288 with 1 Axes>"
      ]
     },
     "metadata": {
      "needs_background": "light"
     },
     "output_type": "display_data"
    }
   ],
   "source": [
    "plt.hist(df_melanoma['age_approx'])"
   ]
  },
  {
   "cell_type": "code",
   "execution_count": 15,
   "metadata": {
    "execution": {
     "iopub.execute_input": "2021-08-17T17:48:11.138391Z",
     "iopub.status.busy": "2021-08-17T17:48:11.138093Z",
     "iopub.status.idle": "2021-08-17T17:48:11.395158Z",
     "shell.execute_reply": "2021-08-17T17:48:11.393999Z",
     "shell.execute_reply.started": "2021-08-17T17:48:11.138363Z"
    }
   },
   "outputs": [
    {
     "name": "stderr",
     "output_type": "stream",
     "text": [
      "/opt/conda/lib/python3.7/site-packages/seaborn/_decorators.py:43: FutureWarning: Pass the following variable as a keyword arg: x. From version 0.12, the only valid positional argument will be `data`, and passing other arguments without an explicit keyword will result in an error or misinterpretation.\n",
      "  FutureWarning\n"
     ]
    },
    {
     "data": {
      "text/plain": [
       "<AxesSubplot:xlabel='sex', ylabel='count'>"
      ]
     },
     "execution_count": 15,
     "metadata": {},
     "output_type": "execute_result"
    },
    {
     "data": {
      "image/png": "[encoded data removed]",
      "text/plain": [
       "<Figure size 432x288 with 1 Axes>"
      ]
     },
     "metadata": {
      "needs_background": "light"
     },
     "output_type": "display_data"
    }
   ],
   "source": [
    "sns.countplot(df_melanoma['sex'], hue = df_melanoma['target'])"
   ]
  },
  {
   "cell_type": "code",
   "execution_count": 16,
   "metadata": {
    "execution": {
     "iopub.execute_input": "2021-08-17T17:48:11.397121Z",
     "iopub.status.busy": "2021-08-17T17:48:11.396684Z",
     "iopub.status.idle": "2021-08-17T17:48:11.723363Z",
     "shell.execute_reply": "2021-08-17T17:48:11.722244Z",
     "shell.execute_reply.started": "2021-08-17T17:48:11.397077Z"
    }
   },
   "outputs": [
    {
     "name": "stderr",
     "output_type": "stream",
     "text": [
      "/opt/conda/lib/python3.7/site-packages/seaborn/_decorators.py:43: FutureWarning: Pass the following variable as a keyword arg: x. From version 0.12, the only valid positional argument will be `data`, and passing other arguments without an explicit keyword will result in an error or misinterpretation.\n",
      "  FutureWarning\n"
     ]
    },
    {
     "data": {
      "text/plain": [
       "<AxesSubplot:xlabel='anatom_site_general_challenge', ylabel='count'>"
      ]
     },
     "execution_count": 16,
     "metadata": {},
     "output_type": "execute_result"
    },
    {
     "data": {
      "image/png": "[encoded data removed]",
      "text/plain": [
       "<Figure size 720x288 with 1 Axes>"
      ]
     },
     "metadata": {
      "needs_background": "light"
     },
     "output_type": "display_data"
    }
   ],
   "source": [
    "fig_dims = (10, 4)\n",
    "fig, ax = plt.subplots(figsize=fig_dims)\n",
    "sns.countplot(df_melanoma['anatom_site_general_challenge'], hue = df_melanoma['target'], ax = ax)"
   ]
  },
  {
   "cell_type": "code",
   "execution_count": 17,
   "metadata": {
    "execution": {
     "iopub.execute_input": "2021-08-17T17:48:11.724999Z",
     "iopub.status.busy": "2021-08-17T17:48:11.724711Z",
     "iopub.status.idle": "2021-08-17T17:48:12.091939Z",
     "shell.execute_reply": "2021-08-17T17:48:12.090864Z",
     "shell.execute_reply.started": "2021-08-17T17:48:11.724970Z"
    }
   },
   "outputs": [
    {
     "name": "stderr",
     "output_type": "stream",
     "text": [
      "/opt/conda/lib/python3.7/site-packages/seaborn/_decorators.py:43: FutureWarning: Pass the following variable as a keyword arg: x. From version 0.12, the only valid positional argument will be `data`, and passing other arguments without an explicit keyword will result in an error or misinterpretation.\n",
      "  FutureWarning\n"
     ]
    },
    {
     "data": {
      "text/plain": [
       "<AxesSubplot:xlabel='diagnosis', ylabel='count'>"
      ]
     },
     "execution_count": 17,
     "metadata": {},
     "output_type": "execute_result"
    },
    {
     "data": {
      "image/png": "[encoded data removed]",
      "text/plain": [
       "<Figure size 1440x288 with 1 Axes>"
      ]
     },
     "metadata": {
      "needs_background": "light"
     },
     "output_type": "display_data"
    }
   ],
   "source": [
    "fig_dims = (20, 4)\n",
    "fig, ax = plt.subplots(figsize=fig_dims)\n",
    "sns.countplot(df_melanoma['diagnosis'], hue = df_melanoma['target'], ax = ax)"
   ]
  },
  {
   "cell_type": "code",
   "execution_count": 18,
   "metadata": {
    "execution": {
     "iopub.execute_input": "2021-08-17T17:48:12.093958Z",
     "iopub.status.busy": "2021-08-17T17:48:12.093520Z",
     "iopub.status.idle": "2021-08-17T17:48:12.839035Z",
     "shell.execute_reply": "2021-08-17T17:48:12.837974Z",
     "shell.execute_reply.started": "2021-08-17T17:48:12.093896Z"
    }
   },
   "outputs": [
    {
     "name": "stderr",
     "output_type": "stream",
     "text": [
      "/opt/conda/lib/python3.7/site-packages/seaborn/distributions.py:2557: FutureWarning: `distplot` is a deprecated function and will be removed in a future version. Please adapt your code to use either `displot` (a figure-level function with similar flexibility) or `histplot` (an axes-level function for histograms).\n",
      "  warnings.warn(msg, FutureWarning)\n"
     ]
    },
    {
     "data": {
      "text/plain": [
       "<AxesSubplot:xlabel='age_approx', ylabel='Density'>"
      ]
     },
     "execution_count": 18,
     "metadata": {},
     "output_type": "execute_result"
    },
    {
     "data": {
      "image/png": "[encoded data removed]",
      "text/plain": [
       "<Figure size 432x288 with 1 Axes>"
      ]
     },
     "metadata": {
      "needs_background": "light"
     },
     "output_type": "display_data"
    }
   ],
   "source": [
    "sns.distplot(df_melanoma['age_approx'])"
   ]
  },
  {
   "cell_type": "code",
   "execution_count": 19,
   "metadata": {
    "execution": {
     "iopub.execute_input": "2021-08-17T17:48:12.843709Z",
     "iopub.status.busy": "2021-08-17T17:48:12.843422Z",
     "iopub.status.idle": "2021-08-17T17:48:12.873410Z",
     "shell.execute_reply": "2021-08-17T17:48:12.872052Z",
     "shell.execute_reply.started": "2021-08-17T17:48:12.843682Z"
    }
   },
   "outputs": [
    {
     "data": {
      "text/plain": [
       "image_name                         0\n",
       "patient_id                         0\n",
       "sex                               65\n",
       "age_approx                        68\n",
       "anatom_site_general_challenge    527\n",
       "diagnosis                          0\n",
       "benign_malignant                   0\n",
       "target                             0\n",
       "dtype: int64"
      ]
     },
     "execution_count": 19,
     "metadata": {},
     "output_type": "execute_result"
    }
   ],
   "source": [
    "df_melanoma.isnull().sum()"
   ]
  },
  {
   "cell_type": "code",
   "execution_count": 20,
   "metadata": {
    "execution": {
     "iopub.execute_input": "2021-08-17T17:48:12.876753Z",
     "iopub.status.busy": "2021-08-17T17:48:12.876110Z",
     "iopub.status.idle": "2021-08-17T17:48:13.924973Z",
     "shell.execute_reply": "2021-08-17T17:48:13.923852Z",
     "shell.execute_reply.started": "2021-08-17T17:48:12.876703Z"
    }
   },
   "outputs": [
    {
     "data": {
      "text/plain": [
       "<matplotlib.image.AxesImage at 0x7fd3702d2090>"
      ]
     },
     "execution_count": 20,
     "metadata": {},
     "output_type": "execute_result"
    },
    {
     "data": {
      "image/png": "[encoded data removed]",
      "text/plain": [
       "<Figure size 432x288 with 1 Axes>"
      ]
     },
     "metadata": {
      "needs_background": "light"
     },
     "output_type": "display_data"
    }
   ],
   "source": [
    "image = plt.imread('/kaggle/input/siim-isic-melanoma-classification/jpeg/train/ISIC_9999134.jpg')\n",
    "plt.imshow(image)"
   ]
  },
  {
   "cell_type": "code",
   "execution_count": 21,
   "metadata": {
    "execution": {
     "iopub.execute_input": "2021-08-17T17:48:13.926799Z",
     "iopub.status.busy": "2021-08-17T17:48:13.926385Z",
     "iopub.status.idle": "2021-08-17T17:48:14.812927Z",
     "shell.execute_reply": "2021-08-17T17:48:14.812150Z",
     "shell.execute_reply.started": "2021-08-17T17:48:13.926756Z"
    }
   },
   "outputs": [],
   "source": [
    "autotune = tf.data.experimental.AUTOTUNE\n",
    "gcs_path = KaggleDatasets().get_gcs_path('siim-isic-melanoma-classification')\n",
    "training_data = tf.io.gfile.glob(gcs_path + '/tfrecords/train*.tfrec')\n",
    "testing_data = tf.io.gfile.glob(gcs_path + '/tfrecords/test*.tfrec')\n",
    "training_data, validation_data = train_test_split(training_data, train_size = 0.8, random_state = 0)\n",
    "target = [0,1]   \n",
    "image_size = [1024, 1024]\n",
    "batch_size = 8 * tpu_strategy.num_replicas_in_sync\n",
    "epochs = 5"
   ]
  },
  {
   "cell_type": "code",
   "execution_count": 22,
   "metadata": {
    "execution": {
     "iopub.execute_input": "2021-08-17T17:48:14.815057Z",
     "iopub.status.busy": "2021-08-17T17:48:14.814423Z",
     "iopub.status.idle": "2021-08-17T17:48:14.838255Z",
     "shell.execute_reply": "2021-08-17T17:48:14.837109Z",
     "shell.execute_reply.started": "2021-08-17T17:48:14.815014Z"
    }
   },
   "outputs": [
    {
     "name": "stdout",
     "output_type": "stream",
     "text": [
      "Dataset: 24842 training images, 8284 validation images and 10982 unlabeled test images\n"
     ]
    }
   ],
   "source": [
    "all_labels = []\n",
    "def decode_image(image_data):\n",
    "    image = tf.image.decode_jpeg(image_data, channels=3)\n",
    "    image = tf.cast(image, tf.float32) / 255.0\n",
    "    image = tf.reshape(image, [*image_size, 3])\n",
    "    return image\n",
    "\n",
    "def get_labeled_data(example):\n",
    "    labeled_data = {\n",
    "        \"image\": tf.io.FixedLenFeature([], tf.string),\n",
    "       \n",
    "        \"target\": tf.io.FixedLenFeature([], tf.int64),\n",
    "    }\n",
    "    example = tf.io.parse_single_example(example, labeled_data)\n",
    "    image = decode_image(example['image'])\n",
    "    label = tf.cast(example['target'], tf.int32)\n",
    "    return image, label\n",
    "\n",
    "def get_unlabeled_data(example):\n",
    "    unlabeled_data = {\n",
    "        \"image\": tf.io.FixedLenFeature([], tf.string),\n",
    "        \"image_name\": tf.io.FixedLenFeature([], tf.string),\n",
    "    }\n",
    "    example = tf.io.parse_single_example(example, unlabeled_data)\n",
    "    image = decode_image(example['image'])\n",
    "    idnum = example['image_name']\n",
    "    return image, idnum\n",
    "\n",
    "def get_full_dataset(filenames, labeled=True, ordered=False):\n",
    "    ignore_order = tf.data.Options()\n",
    "    if not ordered:\n",
    "        ignore_order.experimental_deterministic = False\n",
    "\n",
    "    dataset = tf.data.TFRecordDataset(filenames, num_parallel_reads=autotune)\n",
    "    dataset = dataset.with_options(ignore_order)\n",
    "    dataset = dataset.map(get_labeled_data if labeled else get_unlabeled_data, num_parallel_calls=autotune)\n",
    "    all_labels.append(list(map(lambda x: x[1], dataset)))\n",
    "    return dataset\n",
    "\n",
    "def data_augmentation(image, label):\n",
    "    image = tf.image.random_flip_left_right(image)\n",
    "    image = tf.image.random_brightness(image, 0.1)\n",
    "    image = tf.image.random_flip_up_down(image)\n",
    "    return image, label   \n",
    "\n",
    "def get_training_dataset():\n",
    "    dataset = get_full_dataset(training_data, labeled=True)\n",
    "    dataset = dataset.map(data_augmentation, num_parallel_calls=autotune)\n",
    "    dataset = dataset.repeat()\n",
    "    dataset = dataset.shuffle(2048)\n",
    "    dataset = dataset.batch(batch_size)\n",
    "    dataset = dataset.prefetch(autotune)\n",
    "    return dataset\n",
    "\n",
    "def get_validation_dataset(ordered=False):\n",
    "    dataset = get_full_dataset(validation_data, labeled=True, ordered=ordered)\n",
    "    dataset = dataset.map(data_augmentation, num_parallel_calls=autotune)\n",
    "    dataset = dataset.batch(batch_size)\n",
    "    dataset = dataset.cache()\n",
    "    dataset = dataset.prefetch(autotune)\n",
    "    return dataset\n",
    "\n",
    "def get_test_dataset(ordered=False):\n",
    "    dataset = get_full_dataset(testing_data, labeled=False, ordered=ordered)\n",
    "    dataset = dataset.batch(batch_size)\n",
    "    dataset = dataset.prefetch(autotune)\n",
    "    return dataset\n",
    "\n",
    "def count_data_items(filenames):\n",
    "    n = [int(re.compile(r\"-([0-9]*)\\.\").search(filename).group(1)) for filename in filenames]\n",
    "    return np.sum(n)\n",
    "\n",
    "no_training_images = count_data_items(training_data)\n",
    "no_validation_images = count_data_items(validation_data)\n",
    "no_testing_images = count_data_items(testing_data)\n",
    "STEPS_PER_EPOCH = no_training_images // batch_size\n",
    "print('Dataset: {} training images, {} validation images and {} unlabeled test images'.format(no_training_images,no_validation_images, no_testing_images))"
   ]
  },
  {
   "cell_type": "code",
   "execution_count": 23,
   "metadata": {
    "execution": {
     "iopub.execute_input": "2021-08-17T17:48:14.840007Z",
     "iopub.status.busy": "2021-08-17T17:48:14.839645Z",
     "iopub.status.idle": "2021-08-17T17:48:30.629059Z",
     "shell.execute_reply": "2021-08-17T17:48:30.628057Z",
     "shell.execute_reply.started": "2021-08-17T17:48:14.839976Z"
    }
   },
   "outputs": [
    {
     "name": "stdout",
     "output_type": "stream",
     "text": [
      "1\n",
      "8284\n"
     ]
    }
   ],
   "source": [
    "validation_ds = get_validation_dataset()\n",
    "true_labels = all_labels\n",
    "print(len(true_labels))\n",
    "print(len(true_labels[0]))"
   ]
  },
  {
   "cell_type": "code",
   "execution_count": 24,
   "metadata": {
    "execution": {
     "iopub.execute_input": "2021-08-17T17:48:30.630536Z",
     "iopub.status.busy": "2021-08-17T17:48:30.630250Z",
     "iopub.status.idle": "2021-08-17T17:48:30.638892Z",
     "shell.execute_reply": "2021-08-17T17:48:30.637865Z",
     "shell.execute_reply.started": "2021-08-17T17:48:30.630508Z"
    }
   },
   "outputs": [],
   "source": [
    "def custom_learning_function(start_learning_rate=0.00001, max_learning_rate=0.0001, \n",
    "               min_learning_rate=0.000001, learning_rate_rampup_epochs=20, \n",
    "               learning_rate_sustain_epochs=0, learning_rate_exp_decay=.8):\n",
    "    max_learning_rate = max_learning_rate * tpu_strategy.num_replicas_in_sync\n",
    "\n",
    "    def learning_rate_function(epoch):\n",
    "        if epoch < learning_rate_rampup_epochs:\n",
    "            learning_rate = (max_learning_rate - start_learning_rate) / learning_rate_rampup_epochs * epoch + start_learning_rate\n",
    "        elif epoch < learning_rate_rampup_epochs + learning_rate_sustain_epochs:\n",
    "            learning_rate = max_learning_rate\n",
    "        else:\n",
    "            learning_rate = (max_learning_rate - min_learning_rate) * learning_rate_exp_decay**(epoch - learning_rate_rampup_epochs - learning_rate_sustain_epochs) + min_learning_rate\n",
    "        return learning_rate\n",
    "    \n",
    "    return learning_rate_function"
   ]
  },
  {
   "cell_type": "code",
   "execution_count": 25,
   "metadata": {
    "execution": {
     "iopub.execute_input": "2021-08-17T17:48:30.640579Z",
     "iopub.status.busy": "2021-08-17T17:48:30.640288Z",
     "iopub.status.idle": "2021-08-17T17:48:41.419593Z",
     "shell.execute_reply": "2021-08-17T17:48:41.418541Z",
     "shell.execute_reply.started": "2021-08-17T17:48:30.640551Z"
    }
   },
   "outputs": [
    {
     "name": "stdout",
     "output_type": "stream",
     "text": [
      "Downloading data from https://storage.googleapis.com/tensorflow/keras-applications/xception/xception_weights_tf_dim_ordering_tf_kernels_notop.h5\n",
      "83689472/83683744 [==============================] - 1s 0us/step\n"
     ]
    }
   ],
   "source": [
    "with tpu_strategy.scope():\n",
    "    xception_model = tf.keras.Sequential([\n",
    "        Xception(\n",
    "            input_shape=(*image_size, 3),\n",
    "            weights='imagenet',\n",
    "            include_top=False\n",
    "        ),\n",
    "        tf.keras.layers.GlobalAveragePooling2D(), \n",
    "        tf.keras.layers.Dense(1, activation='sigmoid')\n",
    "    ])"
   ]
  },
  {
   "cell_type": "code",
   "execution_count": 26,
   "metadata": {
    "execution": {
     "iopub.execute_input": "2021-08-17T17:48:41.421281Z",
     "iopub.status.busy": "2021-08-17T17:48:41.420978Z",
     "iopub.status.idle": "2021-08-17T17:48:41.428572Z",
     "shell.execute_reply": "2021-08-17T17:48:41.427315Z",
     "shell.execute_reply.started": "2021-08-17T17:48:41.421245Z"
    }
   },
   "outputs": [],
   "source": [
    "def custom_focal_loss_function(gamma=2., alpha=.25):\n",
    "\tdef focal_loss_function(y_true, y_pred):\n",
    "\t\tpt_1 = tf.where(tf.equal(y_true, 1), y_pred, tf.ones_like(y_pred))\n",
    "\t\tpt_0 = tf.where(tf.equal(y_true, 0), y_pred, tf.zeros_like(y_pred))\n",
    "\t\treturn -K.mean(alpha * K.pow(1. - pt_1, gamma) * K.log(pt_1)) - K.mean((1 - alpha) * K.pow(pt_0, gamma) * K.log(1. - pt_0))\n",
    "\treturn focal_loss_function"
   ]
  },
  {
   "cell_type": "code",
   "execution_count": 27,
   "metadata": {
    "execution": {
     "iopub.execute_input": "2021-08-17T17:48:41.430459Z",
     "iopub.status.busy": "2021-08-17T17:48:41.430048Z",
     "iopub.status.idle": "2021-08-17T17:48:41.490366Z",
     "shell.execute_reply": "2021-08-17T17:48:41.489112Z",
     "shell.execute_reply.started": "2021-08-17T17:48:41.430418Z"
    }
   },
   "outputs": [
    {
     "name": "stdout",
     "output_type": "stream",
     "text": [
      "Model: \"sequential\"\n",
      "_________________________________________________________________\n",
      "Layer (type)                 Output Shape              Param #   \n",
      "=================================================================\n",
      "xception (Functional)        (None, 32, 32, 2048)      20861480  \n",
      "_________________________________________________________________\n",
      "global_average_pooling2d (Gl (None, 2048)              0         \n",
      "_________________________________________________________________\n",
      "dense (Dense)                (None, 1)                 2049      \n",
      "=================================================================\n",
      "Total params: 20,863,529\n",
      "Trainable params: 20,809,001\n",
      "Non-trainable params: 54,528\n",
      "_________________________________________________________________\n"
     ]
    }
   ],
   "source": [
    "xception_model.compile(\n",
    "    optimizer='adam',\n",
    "#     loss = tf.keras.losses.BinaryCrossentropy(),\n",
    "    loss = custom_focal_loss_function(gamma=2., alpha=.25),\n",
    "    metrics=['binary_crossentropy', 'accuracy']\n",
    ")\n",
    "xception_model.summary()"
   ]
  },
  {
   "cell_type": "code",
   "execution_count": 28,
   "metadata": {
    "execution": {
     "iopub.execute_input": "2021-08-17T17:48:41.492100Z",
     "iopub.status.busy": "2021-08-17T17:48:41.491775Z",
     "iopub.status.idle": "2021-08-17T17:48:41.497117Z",
     "shell.execute_reply": "2021-08-17T17:48:41.496163Z",
     "shell.execute_reply.started": "2021-08-17T17:48:41.492069Z"
    }
   },
   "outputs": [],
   "source": [
    "learning_rate = custom_learning_function()\n",
    "learning_rate_schedule = tf.keras.callbacks.LearningRateScheduler(learning_rate, verbose=1)"
   ]
  },
  {
   "cell_type": "code",
   "execution_count": 29,
   "metadata": {
    "execution": {
     "iopub.execute_input": "2021-08-17T17:48:41.498965Z",
     "iopub.status.busy": "2021-08-17T17:48:41.498588Z",
     "iopub.status.idle": "2021-08-17T17:48:41.575641Z",
     "shell.execute_reply": "2021-08-17T17:48:41.574260Z",
     "shell.execute_reply.started": "2021-08-17T17:48:41.498914Z"
    }
   },
   "outputs": [
    {
     "name": "stderr",
     "output_type": "stream",
     "text": [
      "/opt/conda/lib/python3.7/site-packages/sklearn/utils/validation.py:70: FutureWarning: Pass classes=[0 1], y=0        0\n",
      "1        0\n",
      "2        0\n",
      "3        0\n",
      "4        0\n",
      "        ..\n",
      "33121    0\n",
      "33122    0\n",
      "33123    0\n",
      "33124    0\n",
      "33125    0\n",
      "Name: target, Length: 33126, dtype: int64 as keyword args. From version 0.25 passing these as positional arguments will result in an error\n",
      "  FutureWarning)\n"
     ]
    }
   ],
   "source": [
    "train=pd.read_csv('../input/siim-isic-melanoma-classification/train.csv')\n",
    "from sklearn.utils.class_weight import compute_class_weight\n",
    "cw=compute_class_weight('balanced',np.unique(train['target']),train['target'])\n",
    "cw_dict={0:cw[0],1:cw[1]}"
   ]
  },
  {
   "cell_type": "code",
   "execution_count": 30,
   "metadata": {
    "execution": {
     "iopub.execute_input": "2021-08-17T17:48:41.577370Z",
     "iopub.status.busy": "2021-08-17T17:48:41.577060Z",
     "iopub.status.idle": "2021-08-17T18:15:01.464122Z",
     "shell.execute_reply": "2021-08-17T18:15:01.462916Z",
     "shell.execute_reply.started": "2021-08-17T17:48:41.577340Z"
    }
   },
   "outputs": [
    {
     "name": "stdout",
     "output_type": "stream",
     "text": [
      "Epoch 1/5\n",
      "\n",
      "Epoch 00001: LearningRateScheduler reducing learning rate to 1e-05.\n",
      "388/388 [==============================] - 354s 795ms/step - loss: 0.0468 - binary_crossentropy: 0.3877 - accuracy: 0.9655 - val_loss: nan - val_binary_crossentropy: 0.2039 - val_accuracy: 0.9826\n",
      "Epoch 2/5\n",
      "\n",
      "Epoch 00002: LearningRateScheduler reducing learning rate to 4.95e-05.\n",
      "388/388 [==============================] - 297s 765ms/step - loss: 0.0201 - binary_crossentropy: 0.2103 - accuracy: 0.9829 - val_loss: nan - val_binary_crossentropy: 0.2606 - val_accuracy: 0.9827\n",
      "Epoch 3/5\n",
      "\n",
      "Epoch 00003: LearningRateScheduler reducing learning rate to 8.9e-05.\n",
      "388/388 [==============================] - 294s 758ms/step - loss: 0.0191 - binary_crossentropy: 0.1989 - accuracy: 0.9829 - val_loss: nan - val_binary_crossentropy: 0.2165 - val_accuracy: 0.9825\n",
      "Epoch 4/5\n",
      "\n",
      "Epoch 00004: LearningRateScheduler reducing learning rate to 0.0001285.\n",
      "388/388 [==============================] - 294s 759ms/step - loss: 0.0189 - binary_crossentropy: 0.1874 - accuracy: 0.9809 - val_loss: nan - val_binary_crossentropy: 0.1852 - val_accuracy: 0.9814\n",
      "Epoch 5/5\n",
      "\n",
      "Epoch 00005: LearningRateScheduler reducing learning rate to 0.000168.\n",
      "388/388 [==============================] - 291s 751ms/step - loss: 0.0189 - binary_crossentropy: 0.1904 - accuracy: 0.9820 - val_loss: nan - val_binary_crossentropy: 0.2004 - val_accuracy: 0.9821\n"
     ]
    }
   ],
   "source": [
    "history = xception_model.fit(\n",
    "    get_training_dataset(), \n",
    "    epochs=epochs, \n",
    "    steps_per_epoch=STEPS_PER_EPOCH,\n",
    "    callbacks=[learning_rate_schedule],\n",
    "    validation_data = get_validation_dataset(),\n",
    "    class_weight = {0:0.50899675,1: 28.28782609}\n",
    ")"
   ]
  },
  {
   "cell_type": "code",
   "execution_count": 31,
   "metadata": {
    "execution": {
     "iopub.execute_input": "2021-08-17T18:15:01.467257Z",
     "iopub.status.busy": "2021-08-17T18:15:01.466948Z",
     "iopub.status.idle": "2021-08-17T18:15:01.683932Z",
     "shell.execute_reply": "2021-08-17T18:15:01.683129Z",
     "shell.execute_reply.started": "2021-08-17T18:15:01.467229Z"
    }
   },
   "outputs": [
    {
     "data": {
      "image/png": "[encoded data removed]",
      "text/plain": [
       "<Figure size 432x288 with 1 Axes>"
      ]
     },
     "metadata": {
      "needs_background": "light"
     },
     "output_type": "display_data"
    }
   ],
   "source": [
    "plt.plot(history.history['loss'])\n",
    "plt.plot(history.history['val_loss'])\n",
    "plt.title('model loss')\n",
    "plt.ylabel('loss')\n",
    "plt.xlabel('epoch')\n",
    "plt.legend(['train', 'val'], loc='upper left')\n",
    "plt.show()"
   ]
  },
  {
   "cell_type": "code",
   "execution_count": 32,
   "metadata": {
    "execution": {
     "iopub.execute_input": "2021-08-17T18:15:01.685396Z",
     "iopub.status.busy": "2021-08-17T18:15:01.685015Z",
     "iopub.status.idle": "2021-08-17T18:15:01.894564Z",
     "shell.execute_reply": "2021-08-17T18:15:01.893834Z",
     "shell.execute_reply.started": "2021-08-17T18:15:01.685367Z"
    }
   },
   "outputs": [
    {
     "data": {
      "image/png": "[encoded data removed]",
      "text/plain": [
       "<Figure size 432x288 with 1 Axes>"
      ]
     },
     "metadata": {
      "needs_background": "light"
     },
     "output_type": "display_data"
    }
   ],
   "source": [
    "plt.plot(history.history['accuracy'])\n",
    "plt.plot(history.history['val_accuracy'])\n",
    "plt.title('model accuracy')\n",
    "plt.ylabel('accuracy')\n",
    "plt.xlabel('epoch')\n",
    "plt.legend(['train', 'val'], loc='upper left')\n",
    "plt.show()"
   ]
  },
  {
   "cell_type": "code",
   "execution_count": 33,
   "metadata": {
    "execution": {
     "iopub.execute_input": "2021-08-17T18:15:01.896734Z",
     "iopub.status.busy": "2021-08-17T18:15:01.896128Z",
     "iopub.status.idle": "2021-08-17T18:15:08.085506Z",
     "shell.execute_reply": "2021-08-17T18:15:08.084291Z",
     "shell.execute_reply.started": "2021-08-17T18:15:01.896687Z"
    }
   },
   "outputs": [],
   "source": [
    "xception_model.save('final_xception_model.h5')"
   ]
  },
  {
   "cell_type": "code",
   "execution_count": 34,
   "metadata": {
    "execution": {
     "iopub.execute_input": "2021-08-17T18:15:08.087511Z",
     "iopub.status.busy": "2021-08-17T18:15:08.087179Z",
     "iopub.status.idle": "2021-08-17T18:15:09.283336Z",
     "shell.execute_reply": "2021-08-17T18:15:09.282439Z",
     "shell.execute_reply.started": "2021-08-17T18:15:08.087472Z"
    }
   },
   "outputs": [],
   "source": [
    "xception_model.save_weights('final_xception_model_weights.h5')"
   ]
  },
  {
   "cell_type": "code",
   "execution_count": 35,
   "metadata": {
    "execution": {
     "iopub.execute_input": "2021-08-17T18:15:09.285056Z",
     "iopub.status.busy": "2021-08-17T18:15:09.284576Z",
     "iopub.status.idle": "2021-08-17T18:15:44.055514Z",
     "shell.execute_reply": "2021-08-17T18:15:44.054664Z",
     "shell.execute_reply.started": "2021-08-17T18:15:09.285008Z"
    }
   },
   "outputs": [],
   "source": [
    "validation_images = validation_ds.map(lambda image, target: image)\n",
    "y_pred = xception_model.predict(validation_images)\n",
    "for i in range(len(y_pred)):\n",
    "    y_pred[i] = round(float(y_pred[i]), 0)"
   ]
  },
  {
   "cell_type": "code",
   "execution_count": 36,
   "metadata": {
    "execution": {
     "iopub.execute_input": "2021-08-17T18:15:44.057116Z",
     "iopub.status.busy": "2021-08-17T18:15:44.056687Z",
     "iopub.status.idle": "2021-08-17T18:17:03.457500Z",
     "shell.execute_reply": "2021-08-17T18:17:03.456657Z",
     "shell.execute_reply.started": "2021-08-17T18:15:44.057084Z"
    }
   },
   "outputs": [
    {
     "name": "stdout",
     "output_type": "stream",
     "text": [
      "              precision    recall  f1-score   support\n",
      "\n",
      "           0       0.98      1.00      0.99      8140\n",
      "           1       0.00      0.00      0.00       144\n",
      "\n",
      "    accuracy                           0.98      8284\n",
      "   macro avg       0.49      0.50      0.50      8284\n",
      "weighted avg       0.97      0.98      0.97      8284\n",
      "\n"
     ]
    }
   ],
   "source": [
    "from sklearn.metrics import classification_report\n",
    "print(classification_report(true_labels[0],y_pred))"
   ]
  },
  {
   "cell_type": "code",
   "execution_count": 37,
   "metadata": {
    "execution": {
     "iopub.execute_input": "2021-08-17T18:17:03.459034Z",
     "iopub.status.busy": "2021-08-17T18:17:03.458591Z",
     "iopub.status.idle": "2021-08-17T18:17:21.300565Z",
     "shell.execute_reply": "2021-08-17T18:17:21.299544Z",
     "shell.execute_reply.started": "2021-08-17T18:17:03.458999Z"
    }
   },
   "outputs": [],
   "source": [
    "test_ds = get_test_dataset(ordered=True)\n",
    "test_images_ds = test_ds.map(lambda image, idnum: image)"
   ]
  },
  {
   "cell_type": "code",
   "execution_count": 38,
   "metadata": {
    "execution": {
     "iopub.execute_input": "2021-08-17T18:17:21.302243Z",
     "iopub.status.busy": "2021-08-17T18:17:21.301954Z",
     "iopub.status.idle": "2021-08-17T18:17:52.243676Z",
     "shell.execute_reply": "2021-08-17T18:17:52.242690Z",
     "shell.execute_reply.started": "2021-08-17T18:17:21.302216Z"
    }
   },
   "outputs": [],
   "source": [
    "probabilities = xception_model.predict(test_images_ds)"
   ]
  },
  {
   "cell_type": "code",
   "execution_count": 39,
   "metadata": {
    "execution": {
     "iopub.execute_input": "2021-08-17T18:17:52.245640Z",
     "iopub.status.busy": "2021-08-17T18:17:52.245317Z",
     "iopub.status.idle": "2021-08-17T18:18:02.179793Z",
     "shell.execute_reply": "2021-08-17T18:18:02.178468Z",
     "shell.execute_reply.started": "2021-08-17T18:17:52.245608Z"
    }
   },
   "outputs": [
    {
     "name": "stdout",
     "output_type": "stream",
     "text": [
      "Generating submission.csv file...\n"
     ]
    }
   ],
   "source": [
    "print('Generating submission.csv file...')\n",
    "test_ids_ds = test_ds.map(lambda image, idnum: idnum).unbatch()\n",
    "test_ids = next(iter(test_ids_ds.batch(no_testing_images))).numpy().astype('U') # all in one batch"
   ]
  },
  {
   "cell_type": "code",
   "execution_count": 40,
   "metadata": {
    "execution": {
     "iopub.execute_input": "2021-08-17T18:18:02.182421Z",
     "iopub.status.busy": "2021-08-17T18:18:02.181786Z",
     "iopub.status.idle": "2021-08-17T18:18:02.215703Z",
     "shell.execute_reply": "2021-08-17T18:18:02.214957Z",
     "shell.execute_reply.started": "2021-08-17T18:18:02.182363Z"
    }
   },
   "outputs": [
    {
     "data": {
      "text/html": [
       "<div>\n",
       "<style scoped>\n",
       "    .dataframe tbody tr th:only-of-type {\n",
       "        vertical-align: middle;\n",
       "    }\n",
       "\n",
       "    .dataframe tbody tr th {\n",
       "        vertical-align: top;\n",
       "    }\n",
       "\n",
       "    .dataframe thead th {\n",
       "        text-align: right;\n",
       "    }\n",
       "</style>\n",
       "<table border=\"1\" class=\"dataframe\">\n",
       "  <thead>\n",
       "    <tr style=\"text-align: right;\">\n",
       "      <th></th>\n",
       "      <th>image_name</th>\n",
       "      <th>target</th>\n",
       "    </tr>\n",
       "  </thead>\n",
       "  <tbody>\n",
       "    <tr>\n",
       "      <th>0</th>\n",
       "      <td>ISIC_6381819</td>\n",
       "      <td>0.289039</td>\n",
       "    </tr>\n",
       "    <tr>\n",
       "      <th>1</th>\n",
       "      <td>ISIC_5583376</td>\n",
       "      <td>0.212873</td>\n",
       "    </tr>\n",
       "    <tr>\n",
       "      <th>2</th>\n",
       "      <td>ISIC_6408546</td>\n",
       "      <td>0.083804</td>\n",
       "    </tr>\n",
       "    <tr>\n",
       "      <th>3</th>\n",
       "      <td>ISIC_6932354</td>\n",
       "      <td>0.402398</td>\n",
       "    </tr>\n",
       "    <tr>\n",
       "      <th>4</th>\n",
       "      <td>ISIC_8191278</td>\n",
       "      <td>0.233900</td>\n",
       "    </tr>\n",
       "  </tbody>\n",
       "</table>\n",
       "</div>"
      ],
      "text/plain": [
       "     image_name    target\n",
       "0  ISIC_6381819  0.289039\n",
       "1  ISIC_5583376  0.212873\n",
       "2  ISIC_6408546  0.083804\n",
       "3  ISIC_6932354  0.402398\n",
       "4  ISIC_8191278  0.233900"
      ]
     },
     "execution_count": 40,
     "metadata": {},
     "output_type": "execute_result"
    }
   ],
   "source": [
    "pred_df = pd.DataFrame({'image_name': test_ids, 'target': np.concatenate(probabilities)})\n",
    "pred_df.head()"
   ]
  },
  {
   "cell_type": "code",
   "execution_count": 41,
   "metadata": {
    "execution": {
     "iopub.execute_input": "2021-08-17T18:18:02.217336Z",
     "iopub.status.busy": "2021-08-17T18:18:02.217025Z",
     "iopub.status.idle": "2021-08-17T18:18:02.257310Z",
     "shell.execute_reply": "2021-08-17T18:18:02.256305Z",
     "shell.execute_reply.started": "2021-08-17T18:18:02.217307Z"
    }
   },
   "outputs": [
    {
     "data": {
      "text/html": [
       "<div>\n",
       "<style scoped>\n",
       "    .dataframe tbody tr th:only-of-type {\n",
       "        vertical-align: middle;\n",
       "    }\n",
       "\n",
       "    .dataframe tbody tr th {\n",
       "        vertical-align: top;\n",
       "    }\n",
       "\n",
       "    .dataframe thead th {\n",
       "        text-align: right;\n",
       "    }\n",
       "</style>\n",
       "<table border=\"1\" class=\"dataframe\">\n",
       "  <thead>\n",
       "    <tr style=\"text-align: right;\">\n",
       "      <th></th>\n",
       "      <th>image_name</th>\n",
       "      <th>target</th>\n",
       "    </tr>\n",
       "  </thead>\n",
       "  <tbody>\n",
       "    <tr>\n",
       "      <th>0</th>\n",
       "      <td>ISIC_0052060</td>\n",
       "      <td>0</td>\n",
       "    </tr>\n",
       "    <tr>\n",
       "      <th>1</th>\n",
       "      <td>ISIC_0052349</td>\n",
       "      <td>0</td>\n",
       "    </tr>\n",
       "    <tr>\n",
       "      <th>2</th>\n",
       "      <td>ISIC_0058510</td>\n",
       "      <td>0</td>\n",
       "    </tr>\n",
       "    <tr>\n",
       "      <th>3</th>\n",
       "      <td>ISIC_0073313</td>\n",
       "      <td>0</td>\n",
       "    </tr>\n",
       "    <tr>\n",
       "      <th>4</th>\n",
       "      <td>ISIC_0073502</td>\n",
       "      <td>0</td>\n",
       "    </tr>\n",
       "    <tr>\n",
       "      <th>...</th>\n",
       "      <td>...</td>\n",
       "      <td>...</td>\n",
       "    </tr>\n",
       "    <tr>\n",
       "      <th>10977</th>\n",
       "      <td>ISIC_9992485</td>\n",
       "      <td>0</td>\n",
       "    </tr>\n",
       "    <tr>\n",
       "      <th>10978</th>\n",
       "      <td>ISIC_9996992</td>\n",
       "      <td>0</td>\n",
       "    </tr>\n",
       "    <tr>\n",
       "      <th>10979</th>\n",
       "      <td>ISIC_9997917</td>\n",
       "      <td>0</td>\n",
       "    </tr>\n",
       "    <tr>\n",
       "      <th>10980</th>\n",
       "      <td>ISIC_9998234</td>\n",
       "      <td>0</td>\n",
       "    </tr>\n",
       "    <tr>\n",
       "      <th>10981</th>\n",
       "      <td>ISIC_9999302</td>\n",
       "      <td>0</td>\n",
       "    </tr>\n",
       "  </tbody>\n",
       "</table>\n",
       "<p>10982 rows × 2 columns</p>\n",
       "</div>"
      ],
      "text/plain": [
       "         image_name  target\n",
       "0      ISIC_0052060       0\n",
       "1      ISIC_0052349       0\n",
       "2      ISIC_0058510       0\n",
       "3      ISIC_0073313       0\n",
       "4      ISIC_0073502       0\n",
       "...             ...     ...\n",
       "10977  ISIC_9992485       0\n",
       "10978  ISIC_9996992       0\n",
       "10979  ISIC_9997917       0\n",
       "10980  ISIC_9998234       0\n",
       "10981  ISIC_9999302       0\n",
       "\n",
       "[10982 rows x 2 columns]"
      ]
     },
     "execution_count": 41,
     "metadata": {},
     "output_type": "execute_result"
    }
   ],
   "source": [
    "sub = pd.read_csv(\"/kaggle/input/siim-isic-melanoma-classification/sample_submission.csv\")\n",
    "sub"
   ]
  },
  {
   "cell_type": "code",
   "execution_count": 42,
   "metadata": {
    "execution": {
     "iopub.execute_input": "2021-08-17T18:18:02.258871Z",
     "iopub.status.busy": "2021-08-17T18:18:02.258578Z",
     "iopub.status.idle": "2021-08-17T18:18:02.329090Z",
     "shell.execute_reply": "2021-08-17T18:18:02.328010Z",
     "shell.execute_reply.started": "2021-08-17T18:18:02.258831Z"
    }
   },
   "outputs": [
    {
     "data": {
      "text/html": [
       "<div>\n",
       "<style scoped>\n",
       "    .dataframe tbody tr th:only-of-type {\n",
       "        vertical-align: middle;\n",
       "    }\n",
       "\n",
       "    .dataframe tbody tr th {\n",
       "        vertical-align: top;\n",
       "    }\n",
       "\n",
       "    .dataframe thead th {\n",
       "        text-align: right;\n",
       "    }\n",
       "</style>\n",
       "<table border=\"1\" class=\"dataframe\">\n",
       "  <thead>\n",
       "    <tr style=\"text-align: right;\">\n",
       "      <th></th>\n",
       "      <th>image_name</th>\n",
       "      <th>target</th>\n",
       "    </tr>\n",
       "  </thead>\n",
       "  <tbody>\n",
       "    <tr>\n",
       "      <th>0</th>\n",
       "      <td>ISIC_0052060</td>\n",
       "      <td>0.129390</td>\n",
       "    </tr>\n",
       "    <tr>\n",
       "      <th>1</th>\n",
       "      <td>ISIC_0052349</td>\n",
       "      <td>0.078159</td>\n",
       "    </tr>\n",
       "    <tr>\n",
       "      <th>2</th>\n",
       "      <td>ISIC_0058510</td>\n",
       "      <td>0.044562</td>\n",
       "    </tr>\n",
       "    <tr>\n",
       "      <th>3</th>\n",
       "      <td>ISIC_0073313</td>\n",
       "      <td>0.055461</td>\n",
       "    </tr>\n",
       "    <tr>\n",
       "      <th>4</th>\n",
       "      <td>ISIC_0073502</td>\n",
       "      <td>0.248482</td>\n",
       "    </tr>\n",
       "  </tbody>\n",
       "</table>\n",
       "</div>"
      ],
      "text/plain": [
       "     image_name    target\n",
       "0  ISIC_0052060  0.129390\n",
       "1  ISIC_0052349  0.078159\n",
       "2  ISIC_0058510  0.044562\n",
       "3  ISIC_0073313  0.055461\n",
       "4  ISIC_0073502  0.248482"
      ]
     },
     "execution_count": 42,
     "metadata": {},
     "output_type": "execute_result"
    }
   ],
   "source": [
    "del sub['target']\n",
    "sub = sub.merge(pred_df, on='image_name')\n",
    "sub.to_csv('complete_data.csv', index=False)\n",
    "sub.head()"
   ]
  }
 ],
 "metadata": {
  "kernelspec": {
   "display_name": "Python 3",
   "language": "python",
   "name": "python3"
  },
  "language_info": {
   "codemirror_mode": {
    "name": "ipython",
    "version": 3
   },
   "file_extension": ".py",
   "mimetype": "text/x-python",
   "name": "python",
   "nbconvert_exporter": "python",
   "pygments_lexer": "ipython3",
   "version": "3.7.10"
  }
 },
 "nbformat": 4,
 "nbformat_minor": 4
}
